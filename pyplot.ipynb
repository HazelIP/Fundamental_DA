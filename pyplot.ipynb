{
 "cells": [
  {
   "cell_type": "markdown",
   "id": "e0bdcb8e-fe88-4265-9a62-09e6c970d34b",
   "metadata": {},
   "source": [
    "# Overview of matplotlib.pyplot package\n",
    "*** "
   ]
  },
  {
   "cell_type": "code",
   "execution_count": 10,
   "id": "a9b0eb6f-2ce8-4a09-ad86-3b94780760d1",
   "metadata": {},
   "outputs": [],
   "source": [
    "import numpy as np\n",
    "import pandas as pd \n",
    "import matplotlib.pyplot as plt"
   ]
  },
  {
   "cell_type": "markdown",
   "id": "06c951ad-fe47-4c09-addc-f0f9ee774e25",
   "metadata": {},
   "source": [
    "## **What is pyplot, what can it do**\n",
    "***\n",
    "\n",
    "https://matplotlib.org/stable/tutorials/introductory/pyplot.html#sphx-glr-tutorials-introductory-pyplot-py </br>\n",
    "https://matplotlib.org/stable/gallery/index.html (sample plots functions) </br>\n",
    "https://queirozf.com/entries/matplotlib-pylab-pyplot-etc-what-s-the-different-between-these (blog post) </br>\n",
    "https://realpython.com/python-matplotlib-guide/ (detailed guide) </br>\n"
   ]
  },
  {
   "cell_type": "markdown",
   "id": "e9d0d747-23b2-4008-8732-dcac946eeadd",
   "metadata": {},
   "source": [
    "### Creating a simple plot"
   ]
  },
  {
   "cell_type": "code",
   "execution_count": 11,
   "id": "4070233f-a78c-473a-9a11-b186ccf63524",
   "metadata": {},
   "outputs": [
    {
     "data": {
      "image/png": "[encoded data removed]",
      "text/plain": [
       "<Figure size 432x288 with 1 Axes>"
      ]
     },
     "metadata": {
      "needs_background": "light"
     },
     "output_type": "display_data"
    }
   ],
   "source": [
    "x=[1,2,3,4]\n",
    "y=[0.4,0.3,0.2,0.1]\n",
    "plt.plot(x,y)\n",
    "plt.show()\n"
   ]
  },
  {
   "cell_type": "markdown",
   "id": "9227112f-b17f-4b5d-942a-dc8deac86810",
   "metadata": {},
   "source": [
    "### With added styles and format"
   ]
  },
  {
   "cell_type": "code",
   "execution_count": 12,
   "id": "64f65731-f838-4039-a80d-54c42bfedec4",
   "metadata": {},
   "outputs": [
    {
     "data": {
      "image/png": "[encoded data removed]",
      "text/plain": [
       "<Figure size 432x288 with 1 Axes>"
      ]
     },
     "metadata": {
      "needs_background": "light"
     },
     "output_type": "display_data"
    }
   ],
   "source": [
    "x=[1,2,3,4]\n",
    "y=[0.4,0.3,0.2,0.1]\n",
    "# plotting with r dots instead of a blue line\n",
    "plt.plot(x,y,'r.')\n",
    "# set axis, and title\n",
    "plt.axis([0,5,0,0.6])\n",
    "plt.title('Example plot with formats') \n",
    "# Turn on grid with True, turn off grid with False\n",
    "plt.grid(True)\n",
    "# set names for x and y label\n",
    "plt.xlabel('X Label')\n",
    "plt.ylabel('Y Label')\n",
    "plt.show()\n",
    "\n",
    "# plt.yscale()\n",
    "# plt.legend()"
   ]
  },
  {
   "cell_type": "markdown",
   "id": "8a40ff99-e52f-4d4f-a538-14833266c555",
   "metadata": {},
   "source": [
    "### Plotting with numpy array and pandas data frame"
   ]
  },
  {
   "cell_type": "markdown",
   "id": "56f7ea0d-6d4f-4730-bb29-ee92be8504c1",
   "metadata": {},
   "source": [
    "*Plotting with numpy generated random numbers* "
   ]
  },
  {
   "cell_type": "code",
   "execution_count": 13,
   "id": "7ffa5186-97f2-49bc-b768-1936ee3fb920",
   "metadata": {},
   "outputs": [
    {
     "data": {
      "image/png": "[encoded data removed]",
      "text/plain": [
       "<Figure size 432x288 with 1 Axes>"
      ]
     },
     "metadata": {
      "needs_background": "light"
     },
     "output_type": "display_data"
    }
   ],
   "source": [
    "# generate random points using numpy\n",
    "x = np.random.randint(0,20,20)\n",
    "y = x ** 2\n",
    "\n",
    "plt.plot(x,y,'gs')\n",
    "plt.title('ploting with numpy random sample')\n",
    "plt.xlabel('random dots')\n",
    "plt.ylabel('square of x')\n",
    "plt.show()\n"
   ]
  },
  {
   "cell_type": "markdown",
   "id": "a4c01dc1-30d3-4f0a-85be-31eecaf207b7",
   "metadata": {},
   "source": [
    "*plotting with pandas data frame*"
   ]
  },
  {
   "cell_type": "code",
   "execution_count": null,
   "id": "47a38c3f-21a3-4d7d-a382-e0dd047b6b13",
   "metadata": {},
   "outputs": [],
   "source": []
  },
  {
   "cell_type": "markdown",
   "id": "910caa1e-3078-47d2-84e1-32e659bd9719",
   "metadata": {},
   "source": [
    "### Multiple plots and axes"
   ]
  },
  {
   "cell_type": "code",
   "execution_count": null,
   "id": "b646ce21-e23e-44a2-9b4e-8de3e99142b1",
   "metadata": {},
   "outputs": [],
   "source": [
    "plt.figure(figsize=())\n",
    "plt.subplot()\n",
    "plt.hist()\n",
    "plt.subplot()\n",
    "plt.scatter()\n",
    "plt.subplot()\n",
    "plt.plot() "
   ]
  },
  {
   "cell_type": "markdown",
   "id": "85bebbea-339c-4961-83b6-5899d3cb1c1a",
   "metadata": {},
   "source": [
    "***\n",
    "## Introduce 3 interesting plots\n",
    "- Stacked barchart (Discrete distribution as horizontal bar chart)\n",
    "https://matplotlib.org/stable/gallery/lines_bars_and_markers/horizontal_barchart_distribution.html#sphx-glr-gallery-lines-bars-and-markers-horizontal-barchart-distribution-py\n",
    "- Stem plot? (event chart)\n",
    "https://matplotlib.org/stable/gallery/lines_bars_and_markers/timeline.html#sphx-glr-gallery-lines-bars-and-markers-timeline-py\n",
    "- heatmap"
   ]
  },
  {
   "cell_type": "markdown",
   "id": "9381be35-6d74-40fe-b5e1-632ae94dfa0b",
   "metadata": {
    "tags": []
   },
   "source": [
    "1. Stacked barchart </br>\n",
    "use cases: to visualize discrete distributions, for example visualizing survey results with a 5-point scale </br>\n",
    "calling barh()"
   ]
  },
  {
   "cell_type": "code",
   "execution_count": null,
   "id": "b946e363-d3a1-423e-bebe-20c02db1febf",
   "metadata": {},
   "outputs": [],
   "source": []
  },
  {
   "cell_type": "markdown",
   "id": "76a5a0e2-4b26-4967-b3d5-663fbd236593",
   "metadata": {},
   "source": [
    "2. Stem Plot (event chart) </br>\n",
    "use cases: creating a simple timeline of events, a collection of dates and text"
   ]
  },
  {
   "cell_type": "code",
   "execution_count": null,
   "id": "a97d94dc-f166-471b-a999-550f38a30aa1",
   "metadata": {},
   "outputs": [],
   "source": []
  },
  {
   "cell_type": "markdown",
   "id": "3d7a0774-e0ac-4e2d-b7b2-62bfeebc9e2d",
   "metadata": {},
   "source": [
    "3. Heatmap </br>\n",
    "use cases: "
   ]
  },
  {
   "cell_type": "code",
   "execution_count": null,
   "id": "c8994856-2fde-457b-8460-ae1dc441b8f5",
   "metadata": {},
   "outputs": [],
   "source": []
  },
  {
   "cell_type": "code",
   "execution_count": null,
   "id": "23fda8cf-dcde-4aee-893b-0487a435ff3e",
   "metadata": {},
   "outputs": [],
   "source": []
  },
  {
   "cell_type": "code",
   "execution_count": null,
   "id": "a5d25888-ca6d-425b-8a2b-c7db7c8d9980",
   "metadata": {},
   "outputs": [],
   "source": []
  },
  {
   "cell_type": "code",
   "execution_count": null,
   "id": "9e9c8b67-7a76-41a2-8213-481a99c1378d",
   "metadata": {},
   "outputs": [],
   "source": []
  },
  {
   "cell_type": "markdown",
   "id": "8c850fb6-5938-4de5-beb7-5246625bcbf5",
   "metadata": {},
   "source": [
    "References:\n",
    "[1]\n",
    "[2]"
   ]
  },
  {
   "cell_type": "code",
   "execution_count": null,
   "id": "01187924-45a7-4ffe-9696-ce1810d74417",
   "metadata": {},
   "outputs": [],
   "source": []
  }
 ],
 "metadata": {
  "kernelspec": {
   "display_name": "Python 3",
   "language": "python",
   "name": "python3"
  },
  "language_info": {
   "codemirror_mode": {
    "name": "ipython",
    "version": 3
   },
   "file_extension": ".py",
   "mimetype": "text/x-python",
   "name": "python",
   "nbconvert_exporter": "python",
   "pygments_lexer": "ipython3",
   "version": "3.8.8"
  }
 },
 "nbformat": 4,
 "nbformat_minor": 5
}
