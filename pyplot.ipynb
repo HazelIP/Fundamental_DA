{
 "cells": [
  {
   "cell_type": "markdown",
   "id": "e0bdcb8e-fe88-4265-9a62-09e6c970d34b",
   "metadata": {},
   "source": [
    "Overview of matplotlib.pyplot package, official doc and blogpost"
   ]
  },
  {
   "cell_type": "code",
   "execution_count": null,
   "id": "a9b0eb6f-2ce8-4a09-ad86-3b94780760d1",
   "metadata": {},
   "outputs": [],
   "source": [
    "import numpy\n",
    "import matplotlib.pyplot as plt"
   ]
  },
  {
   "cell_type": "markdown",
   "id": "85bebbea-339c-4961-83b6-5899d3cb1c1a",
   "metadata": {},
   "source": [
    "Introduce 3 interesting plots"
   ]
  },
  {
   "cell_type": "code",
   "execution_count": null,
   "id": "e8b6d549-3028-4d6f-aded-1a6fc2d31593",
   "metadata": {
    "tags": []
   },
   "outputs": [],
   "source": []
  },
  {
   "cell_type": "code",
   "execution_count": null,
   "id": "b946e363-d3a1-423e-bebe-20c02db1febf",
   "metadata": {},
   "outputs": [],
   "source": []
  },
  {
   "cell_type": "code",
   "execution_count": null,
   "id": "2dda2b61-a4f5-4d5b-a492-cd2496d58a4f",
   "metadata": {},
   "outputs": [],
   "source": []
  },
  {
   "cell_type": "code",
   "execution_count": null,
   "id": "a5d25888-ca6d-425b-8a2b-c7db7c8d9980",
   "metadata": {},
   "outputs": [],
   "source": []
  },
  {
   "cell_type": "code",
   "execution_count": null,
   "id": "9e9c8b67-7a76-41a2-8213-481a99c1378d",
   "metadata": {},
   "outputs": [],
   "source": []
  },
  {
   "cell_type": "markdown",
   "id": "8c850fb6-5938-4de5-beb7-5246625bcbf5",
   "metadata": {},
   "source": [
    "References:\n",
    "[1]\n",
    "[2]"
   ]
  },
  {
   "cell_type": "code",
   "execution_count": null,
   "id": "01187924-45a7-4ffe-9696-ce1810d74417",
   "metadata": {},
   "outputs": [],
   "source": []
  }
 ],
 "metadata": {
  "kernelspec": {
   "display_name": "Python 3",
   "language": "python",
   "name": "python3"
  },
  "language_info": {
   "codemirror_mode": {
    "name": "ipython",
    "version": 3
   },
   "file_extension": ".py",
   "mimetype": "text/x-python",
   "name": "python",
   "nbconvert_exporter": "python",
   "pygments_lexer": "ipython3",
   "version": "3.8.8"
  }
 },
 "nbformat": 4,
 "nbformat_minor": 5
}
