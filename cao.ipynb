{
 "cells": [
  {
   "cell_type": "markdown",
   "id": "0f12b581-e8bc-418f-ad01-127085fb09bd",
   "metadata": {},
   "source": [
    "Overview of loading CAO data into pandas Data Frame"
   ]
  },
  {
   "cell_type": "code",
   "execution_count": null,
   "id": "52c661fa-13a0-4c51-9ad9-055c3636d2aa",
   "metadata": {},
   "outputs": [],
   "source": []
  },
  {
   "cell_type": "code",
   "execution_count": null,
   "id": "866e6a97-5ed4-45e8-937d-afbc8e244641",
   "metadata": {},
   "outputs": [],
   "source": []
  },
  {
   "cell_type": "markdown",
   "id": "90e63f96-5425-4a57-95b8-6188ddae2e9d",
   "metadata": {},
   "source": [
    "Comparing data of 2019,2020, 2021 using pandas functions"
   ]
  },
  {
   "cell_type": "code",
   "execution_count": null,
   "id": "6fe56d8e-6387-4a29-b451-85fab147aebf",
   "metadata": {},
   "outputs": [],
   "source": []
  },
  {
   "cell_type": "markdown",
   "id": "1a504fa4-18fb-413d-80c8-0a03fe8900c3",
   "metadata": {},
   "source": [
    "Create plots and visualizations"
   ]
  },
  {
   "cell_type": "code",
   "execution_count": null,
   "id": "0dfb23a0-66b0-4f04-ad89-527d2b9dafd7",
   "metadata": {},
   "outputs": [],
   "source": []
  },
  {
   "cell_type": "code",
   "execution_count": null,
   "id": "2933c249-341d-476d-85e6-21da14c2d4c0",
   "metadata": {},
   "outputs": [],
   "source": []
  },
  {
   "cell_type": "code",
   "execution_count": null,
   "id": "7607fccd-789d-4106-aa9c-4afc2d2c2597",
   "metadata": {},
   "outputs": [],
   "source": []
  },
  {
   "cell_type": "markdown",
   "id": "765e07d2-e950-4ed4-8341-d1cb8af9dd8c",
   "metadata": {},
   "source": [
    "References:\n",
    "[1]\n",
    "[2]"
   ]
  },
  {
   "cell_type": "code",
   "execution_count": null,
   "id": "9aca23e7-ff9d-4008-85f2-cde25a7f7e8d",
   "metadata": {},
   "outputs": [],
   "source": []
  }
 ],
 "metadata": {
  "kernelspec": {
   "display_name": "Python 3",
   "language": "python",
   "name": "python3"
  },
  "language_info": {
   "codemirror_mode": {
    "name": "ipython",
    "version": 3
   },
   "file_extension": ".py",
   "mimetype": "text/x-python",
   "name": "python",
   "nbconvert_exporter": "python",
   "pygments_lexer": "ipython3",
   "version": "3.8.8"
  }
 },
 "nbformat": 4,
 "nbformat_minor": 5
}
